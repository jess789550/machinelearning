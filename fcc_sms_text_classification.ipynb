{
  "cells": [
    {
      "cell_type": "markdown",
      "metadata": {
        "id": "view-in-github",
        "colab_type": "text"
      },
      "source": [
        "<a href=\"https://colab.research.google.com/github/jess789550/machinelearning/blob/main/fcc_sms_text_classification.ipynb\" target=\"_parent\"><img src=\"https://colab.research.google.com/assets/colab-badge.svg\" alt=\"Open In Colab\"/></a>"
      ]
    },
    {
      "cell_type": "code",
      "execution_count": null,
      "metadata": {
        "id": "8RZOuS9LWQvv"
      },
      "outputs": [],
      "source": [
        "# import libraries\n",
        "try:\n",
        "  # %tensorflow_version only exists in Colab.\n",
        "  !pip install tf-nightly\n",
        "except Exception:\n",
        "  pass\n",
        "import tensorflow as tf\n",
        "import pandas as pd\n",
        "from tensorflow import keras\n",
        "!pip install tensorflow-datasets\n",
        "import tensorflow_datasets as tfds\n",
        "import numpy as np\n",
        "import matplotlib.pyplot as plt\n",
        "import os\n",
        "\n",
        "#!pip install -q tflite-model-maker  # ERROR\n",
        "#from tflite_model_maker.text_classifier import DataLoader\n",
        "\n",
        "\n",
        "print(tf.__version__)"
      ]
    },
    {
      "cell_type": "code",
      "execution_count": null,
      "metadata": {
        "id": "lMHwYXHXCar3"
      },
      "outputs": [],
      "source": [
        "# get data files\n",
        "!wget https://cdn.freecodecamp.org/project-data/sms/train-data.tsv\n",
        "!wget https://cdn.freecodecamp.org/project-data/sms/valid-data.tsv\n",
        "\n",
        "train_file_path = \"train-data.tsv\"\n",
        "test_file_path = \"valid-data.tsv\""
      ]
    },
    {
      "cell_type": "code",
      "execution_count": null,
      "metadata": {
        "id": "g_h508FEClxO"
      },
      "outputs": [],
      "source": [
        "# My code using Google and https://www.tensorflow.org/tutorials/keras/text_classification\n",
        "# https://ai.google.dev/edge/litert/libraries/modify/text_classification\n",
        "with open(train_file_path) as f:\n",
        "  print(f.read())\n",
        "\n",
        "with open(test_file_path) as f:\n",
        "  print(f.read())\n",
        "\n",
        "# CANNOT INSTALL DataLoader\n",
        "# train_data = DataLoader.from_csv(\n",
        "#       filename='train.csv',\n",
        "#       text_column='sentence',\n",
        "#       label_column='label',\n",
        "#       model_spec=spec,\n",
        "#       is_training=True)\n",
        "\n",
        "# test_data = DataLoader.from_csv(\n",
        "#       filename='dev.csv',\n",
        "#       text_column='sentence',\n",
        "#       label_column='label',\n",
        "#       model_spec=spec,\n",
        "#       is_training=False)\n",
        "\n",
        "batch_size = 32\n",
        "seed = 42\n",
        "\n",
        "# NOT DIRECTORY\n",
        "# raw_train_ds = tf.keras.utils.text_dataset_from_directory(\n",
        "#     train_file_path,\n",
        "#     batch_size=batch_size,\n",
        "#     validation_split=0.2,\n",
        "#     subset='training',\n",
        "#     seed=seed)"
      ]
    },
    {
      "cell_type": "code",
      "execution_count": null,
      "metadata": {
        "id": "zOMKywn4zReN"
      },
      "outputs": [],
      "source": [
        "# ChatGPT\n",
        "\n",
        "import pandas as pd\n",
        "\n",
        "# Load the training and testing data without headers, then assign column names\n",
        "train_data = pd.read_csv(\"train-data.tsv\", sep='\\t', header=None, names=[\"label\", \"message\"])\n",
        "test_data = pd.read_csv(\"valid-data.tsv\", sep='\\t', header=None, names=[\"label\", \"message\"])\n",
        "\n",
        "# Check the first few rows to ensure it loaded correctly\n",
        "train_data.head(), test_data.head()\n",
        "\n",
        "from sklearn.feature_extraction.text import CountVectorizer\n",
        "from sklearn.model_selection import train_test_split\n",
        "from sklearn.naive_bayes import MultinomialNB\n",
        "from sklearn.pipeline import make_pipeline\n",
        "from sklearn.metrics import classification_report\n",
        "\n",
        "# Clean and preprocess the text\n",
        "def preprocess_text(text):\n",
        "    text = text.lower()  # Convert text to lowercase\n",
        "    # Additional preprocessing can be done here, like removing punctuation, etc.\n",
        "    return text\n",
        "\n",
        "# Apply preprocessing to train and test data\n",
        "train_data['cleaned_text'] = train_data['message'].apply(preprocess_text)\n",
        "test_data['cleaned_text'] = test_data['message'].apply(preprocess_text)\n",
        "\n",
        "# Create a simple pipeline with a CountVectorizer and Naive Bayes classifier\n",
        "model = make_pipeline(CountVectorizer(), MultinomialNB())\n",
        "\n",
        "# Split the data into features and labels\n",
        "X_train = train_data['cleaned_text']\n",
        "y_train = train_data['label']\n",
        "\n",
        "# Train the model\n",
        "model.fit(X_train, y_train)\n",
        "\n",
        "# Evaluate the model on the validation set\n",
        "X_test = test_data['cleaned_text']\n",
        "y_test = test_data['label']\n",
        "y_pred = model.predict(X_test)\n",
        "\n",
        "# Print evaluation metrics\n",
        "print(classification_report(y_test, y_pred))"
      ]
    },
    {
      "cell_type": "code",
      "execution_count": null,
      "metadata": {
        "id": "J9tD9yACG6M9"
      },
      "outputs": [],
      "source": [
        "# function to predict messages based on model\n",
        "# (should return list containing prediction and label, ex. [0.008318834938108921, 'ham'])\n",
        "def predict_message(pred_text):\n",
        "  message = preprocess_text(pred_text) # ChatGPT\n",
        "\n",
        "  # Predict the class using the trained model\n",
        "  prob = model.predict_proba([message])  # Get the probabilities for each class\n",
        "  ham_prob, spam_prob = prob[0]  # prob[0] gives the probabilities for the two classes\n",
        "\n",
        "  prediction_num = spam_prob\n",
        "\n",
        "  if spam_prob > ham_prob:\n",
        "    label = \"spam\"\n",
        "  else:\n",
        "    label = \"ham\"\n",
        "\n",
        "  prediction = [prediction_num, label]\n",
        "  return (prediction)\n",
        "\n",
        "pred_text = \"how are you doing today?\"\n",
        "\n",
        "prediction = predict_message(pred_text)\n",
        "print(prediction)"
      ]
    },
    {
      "cell_type": "code",
      "execution_count": null,
      "metadata": {
        "id": "Dxotov85SjsC"
      },
      "outputs": [],
      "source": [
        "# Run this cell to test your function and model. Do not modify contents.\n",
        "def test_predictions():\n",
        "  test_messages = [\"how are you doing today\",\n",
        "                   \"sale today! to stop texts call 98912460324\",\n",
        "                   \"i dont want to go. can we try it a different day? available sat\",\n",
        "                   \"our new mobile video service is live. just install on your phone to start watching.\",\n",
        "                   \"you have won £1000 cash! call to claim your prize.\",\n",
        "                   \"i'll bring it tomorrow. don't forget the milk.\",\n",
        "                   \"wow, is your arm alright. that happened to me one time too\"\n",
        "                  ]\n",
        "\n",
        "  test_answers = [\"ham\", \"spam\", \"ham\", \"spam\", \"spam\", \"ham\", \"ham\"]\n",
        "  passed = True\n",
        "\n",
        "  for msg, ans in zip(test_messages, test_answers):\n",
        "    prediction = predict_message(msg)\n",
        "    if prediction[1] != ans:\n",
        "      passed = False\n",
        "\n",
        "  if passed:\n",
        "    print(\"You passed the challenge. Great job!\")\n",
        "  else:\n",
        "    print(\"You haven't passed yet. Keep trying.\")\n",
        "\n",
        "test_predictions()\n"
      ]
    }
  ],
  "metadata": {
    "colab": {
      "name": "fcc_sms_text_classification.ipynb",
      "private_outputs": true,
      "provenance": [],
      "toc_visible": true,
      "include_colab_link": true
    },
    "kernelspec": {
      "display_name": "Python 3",
      "name": "python3"
    },
    "language_info": {}
  },
  "nbformat": 4,
  "nbformat_minor": 0
}